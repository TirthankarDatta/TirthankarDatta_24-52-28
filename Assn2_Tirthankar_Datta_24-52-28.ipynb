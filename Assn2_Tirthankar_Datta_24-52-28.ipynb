{
 "cells": [
  {
   "cell_type": "code",
   "execution_count": null,
   "id": "43ab936f-4dab-4caf-bb0c-7683607cffe2",
   "metadata": {},
   "outputs": [],
   "source": [
    "#Name: Tirthankar Datta\n",
    "#Registration Number: 24-52-28\n",
    "#Programme: PhD\n",
    "#Assignment Number: 2"
   ]
  },
  {
   "cell_type": "code",
   "execution_count": 11,
   "id": "eeaa8a6d-6178-4bae-9273-baca0bae7c2c",
   "metadata": {},
   "outputs": [
    {
     "name": "stdout",
     "output_type": "stream",
     "text": [
      "[ 0  1  2  3  4  5  6  7  8  9 10 11 12 13 14 15 16 17 18 19 20 21 22 23\n",
      " 24 25 26 27 28 29 30]\n",
      "Shape :(31,)\n"
     ]
    }
   ],
   "source": [
    "#Question 1\n",
    "\n",
    "import numpy as np\n",
    "var1=np.arange(0,31,1)\n",
    "print(var1)\n",
    "print(\"Shape :\"+str(var1.shape))"
   ]
  },
  {
   "cell_type": "code",
   "execution_count": 13,
   "id": "67b5c051-f39c-4a76-85c5-7d3e2a420e8f",
   "metadata": {},
   "outputs": [
    {
     "name": "stdout",
     "output_type": "stream",
     "text": [
      "[[ 0  1  2  3  4  5  6  7  8  9]\n",
      " [10 11 12 13 14 15 16 17 18 19]\n",
      " [20 21 22 23 24 25 26 27 28 29]]\n"
     ]
    }
   ],
   "source": [
    "var2=var1[:-1].reshape(3,10)\n",
    "print(var2)"
   ]
  },
  {
   "cell_type": "code",
   "execution_count": 15,
   "id": "b403879f-c6b1-4e28-ae67-abc835fde903",
   "metadata": {},
   "outputs": [
    {
     "name": "stdout",
     "output_type": "stream",
     "text": [
      "[[[ 0  1]\n",
      "  [ 2  3]\n",
      "  [ 4  5]\n",
      "  [ 6  7]\n",
      "  [ 8  9]]\n",
      "\n",
      " [[10 11]\n",
      "  [12 13]\n",
      "  [14 15]\n",
      "  [16 17]\n",
      "  [18 19]]\n",
      "\n",
      " [[20 21]\n",
      "  [22 23]\n",
      "  [24 25]\n",
      "  [26 27]\n",
      "  [28 29]]]\n"
     ]
    }
   ],
   "source": [
    "var3=var1[:-1].reshape(3,5,2)\n",
    "print(var3)"
   ]
  },
  {
   "cell_type": "code",
   "execution_count": 17,
   "id": "eb2f823f-b905-405c-af2c-e4079896f200",
   "metadata": {},
   "outputs": [
    {
     "name": "stdout",
     "output_type": "stream",
     "text": [
      "[[ 0  1  2  3  4  5  6  7  8  9]\n",
      " [-1 11 12 13 14 15 16 17 18 19]\n",
      " [20 21 22 23 24 25 26 27 28 29]]\n"
     ]
    }
   ],
   "source": [
    "var2[1,0]=-1\n",
    "print(var2)"
   ]
  },
  {
   "cell_type": "code",
   "execution_count": 19,
   "id": "3817bc9a-c499-4dba-8c76-bace0648a87c",
   "metadata": {},
   "outputs": [
    {
     "name": "stdout",
     "output_type": "stream",
     "text": [
      "[ 0  1  2  3  4  5  6  7  8  9 -1 11 12 13 14 15 16 17 18 19 20 21 22 23\n",
      " 24 25 26 27 28 29 30]\n",
      "[[[ 0  1]\n",
      "  [ 2  3]\n",
      "  [ 4  5]\n",
      "  [ 6  7]\n",
      "  [ 8  9]]\n",
      "\n",
      " [[-1 11]\n",
      "  [12 13]\n",
      "  [14 15]\n",
      "  [16 17]\n",
      "  [18 19]]\n",
      "\n",
      " [[20 21]\n",
      "  [22 23]\n",
      "  [24 25]\n",
      "  [26 27]\n",
      "  [28 29]]]\n"
     ]
    }
   ],
   "source": [
    "print(var1)\n",
    "print(var3)"
   ]
  },
  {
   "cell_type": "code",
   "execution_count": 21,
   "id": "65cbbbc8-4c48-4832-a9a8-12f61fc9c642",
   "metadata": {},
   "outputs": [
    {
     "name": "stdout",
     "output_type": "stream",
     "text": [
      "[[ 20  25]\n",
      " [ 59  75]\n",
      " [120 125]]\n"
     ]
    }
   ],
   "source": [
    "sum_over_second_dim=np.sum(var3,axis=1)\n",
    "print(sum_over_second_dim)"
   ]
  },
  {
   "cell_type": "code",
   "execution_count": 23,
   "id": "e122186f-800a-48bb-b8bd-2e99a6435f33",
   "metadata": {},
   "outputs": [
    {
     "name": "stdout",
     "output_type": "stream",
     "text": [
      "[[ 1  5  9 13 17]\n",
      " [10 25 29 33 37]\n",
      " [41 45 49 53 57]]\n"
     ]
    }
   ],
   "source": [
    "sum_over_third_dim=np.sum(var3,axis=2)\n",
    "print(sum_over_third_dim)"
   ]
  },
  {
   "cell_type": "code",
   "execution_count": 25,
   "id": "925f8f76-5981-4a3a-b83e-568dd4ad6881",
   "metadata": {},
   "outputs": [
    {
     "name": "stdout",
     "output_type": "stream",
     "text": [
      "[ 52  75  87  99 111]\n"
     ]
    }
   ],
   "source": [
    "sum_over_first_second=np.sum(var3,axis=(0,2))\n",
    "print(sum_over_first_second)"
   ]
  },
  {
   "cell_type": "code",
   "execution_count": 27,
   "id": "30be34b7-1833-45d9-a949-c61dd6162cda",
   "metadata": {},
   "outputs": [
    {
     "name": "stdout",
     "output_type": "stream",
     "text": [
      "[[-1 11 12 13 14 15 16 17 18 19]]\n",
      "[ 9 19 29]\n",
      "[[ 8  9]\n",
      " [18 19]]\n"
     ]
    }
   ],
   "source": [
    "print(var2[1:2])\n",
    "print(var2[0:,-1])\n",
    "print(var2[:2,-2:])"
   ]
  },
  {
   "cell_type": "code",
   "execution_count": 29,
   "id": "a80f68c2-1172-411e-8822-cdc7e9331b47",
   "metadata": {},
   "outputs": [
    {
     "name": "stdout",
     "output_type": "stream",
     "text": [
      "[ 1  2  3  4  5  6  7  8  9 10]\n"
     ]
    }
   ],
   "source": [
    "#Question 2\n",
    "\n",
    "arr=np.arange(0,10,1)\n",
    "arr_b=arr+1\n",
    "print(arr_b)"
   ]
  },
  {
   "cell_type": "code",
   "execution_count": 31,
   "id": "63706abd-2dd9-47be-b91f-37da3e2b5c3f",
   "metadata": {},
   "outputs": [
    {
     "name": "stdout",
     "output_type": "stream",
     "text": [
      "[[ 0  1  2  3  4  5  6  7  8  9]\n",
      " [ 1  2  3  4  5  6  7  8  9 10]\n",
      " [ 2  3  4  5  6  7  8  9 10 11]\n",
      " [ 3  4  5  6  7  8  9 10 11 12]\n",
      " [ 4  5  6  7  8  9 10 11 12 13]\n",
      " [ 5  6  7  8  9 10 11 12 13 14]\n",
      " [ 6  7  8  9 10 11 12 13 14 15]\n",
      " [ 7  8  9 10 11 12 13 14 15 16]\n",
      " [ 8  9 10 11 12 13 14 15 16 17]\n",
      " [ 9 10 11 12 13 14 15 16 17 18]]\n"
     ]
    }
   ],
   "source": [
    "arr2=arr+arr.reshape(10,1)\n",
    "print(arr2)"
   ]
  },
  {
   "cell_type": "code",
   "execution_count": 35,
   "id": "1e5d4016-8e57-4282-a2ca-92cdae6e325e",
   "metadata": {},
   "outputs": [
    {
     "name": "stdout",
     "output_type": "stream",
     "text": [
      "[[ 0.61105159  0.44300341  0.14898338  0.74302806  2.35541348]\n",
      " [ 0.70786584  9.06742371  1.42792013  0.47160835  0.31655374]\n",
      " [13.68768163  5.35762069  0.59214471  0.96822704  0.61917382]\n",
      " [ 1.56160384  0.63870212  3.06962323  0.79152161  1.55013182]\n",
      " [ 0.18242826  1.46992857  1.90473368  0.3963871   0.21271932]\n",
      " [ 0.42127946  0.32028772  3.44584785  0.68381577  0.6272904 ]\n",
      " [ 2.05803813  1.82559543 39.77221344  0.92237894  0.44234843]\n",
      " [ 2.29392588  3.32619634  0.80462363  0.51031767  1.91751238]\n",
      " [ 0.89567089  0.79977575  0.54207956  1.92060387  0.83351968]\n",
      " [ 0.17537369  1.87626186  0.92829949  0.94838375  4.19627839]\n",
      " [ 0.28552175  0.17959479  4.84267789  0.21810311  0.3965047 ]\n",
      " [ 1.54061806  1.0569967   1.53679039  0.70233797  0.98493012]\n",
      " [ 1.93759264  0.14594872  0.80564668  0.32654564  1.6253854 ]\n",
      " [ 0.51527872  5.47221271  1.78095473  1.07919637  1.20077478]\n",
      " [ 4.11159419  0.31389986  0.66852752  0.96269262  0.13609841]\n",
      " [ 0.27287904  4.51410153  1.80000257  0.20862791  1.29426992]\n",
      " [ 0.65367291  1.18851268  1.15797613  3.27495845  1.05284856]\n",
      " [ 3.38412812  0.41072914  4.01289749  0.25911718  3.69550984]\n",
      " [ 0.68931377  1.32250943  2.00398559  1.46813454  0.44866637]\n",
      " [ 0.96581161  1.74320449  1.81585972  0.25543567  2.03780401]\n",
      " [ 1.17554343  0.95212499  0.69209298  0.54130891  4.87795914]\n",
      " [ 1.51816742  1.35654685  1.4675194   4.3127653   0.18755796]\n",
      " [ 0.34474139  0.51850978  5.08129274  2.46970532  1.21885242]\n",
      " [ 2.5254355   0.27256191  3.02786709  1.55561027  2.97158941]\n",
      " [ 0.22941846  0.21698481  0.31025897  0.56249817  0.45985596]\n",
      " [ 0.73418052  0.68611336  1.19869026  0.28799419  0.31889552]\n",
      " [ 0.38577004  0.55729289  0.85185557  1.23165704  0.38263447]\n",
      " [ 2.67089106  0.22305669  3.95599976  0.95631383  2.45573589]\n",
      " [ 2.35808728  0.41438679  0.41593343  1.9960048   3.33438244]\n",
      " [ 2.74501853  1.5688265   0.4732559   0.97662428  2.56641209]\n",
      " [ 0.1598534   3.89629223  0.64958983 13.36785247  2.32780912]\n",
      " [ 0.42698566  0.80514485  0.56665373  1.09587308  1.67347956]\n",
      " [ 0.2838948   2.202237    1.37869827  4.60410715  1.71086105]\n",
      " [ 0.78035166  1.60512953  4.57135142  0.29171497  1.68407789]\n",
      " [ 0.51160321  4.40677454  0.56002416  0.60944511  2.35799916]\n",
      " [ 1.75199153  4.77919792  2.27583646  2.34233463  4.15496087]\n",
      " [ 0.29967375  0.52809239  1.15450426  0.44169007  0.28228097]\n",
      " [ 4.96685956  0.33737322  0.89263101  0.28816276  1.56475979]\n",
      " [ 1.55325581  1.54476397  0.34744119  1.72409657  0.30188723]\n",
      " [ 1.34017127  3.21846689  2.84999097  0.52515398  3.70340494]\n",
      " [ 0.37576968  0.32866619  0.30707583  0.37035277  0.48733443]\n",
      " [ 2.92802902  3.15575998  0.78718648  0.73876489  0.72759469]\n",
      " [ 1.2590207   0.71366085  0.38803326  0.59298956  0.35645918]\n",
      " [ 0.6495907   0.20334378  0.93422194  1.24715397  0.90125516]\n",
      " [ 0.32571082  2.77182156  1.57412946  0.36535186  0.36428596]\n",
      " [ 0.11170005  0.82413611  1.40644447  3.08199424  0.78438564]\n",
      " [ 1.72755615  0.52471046  0.49741086  0.71134379  4.72556869]\n",
      " [ 2.98299067  1.05187251  5.24037619  0.94350829  0.87013363]\n",
      " [ 0.35366485  1.0509003   0.62967831  6.15545064  1.0692153 ]\n",
      " [ 0.590431    1.65053088  6.1524032   1.27460141  0.52389243]]\n"
     ]
    }
   ],
   "source": [
    "dataset=np.exp(np.random.randn(50,5))\n",
    "print(dataset)"
   ]
  },
  {
   "cell_type": "code",
   "execution_count": 39,
   "id": "27a182ca-60e0-40bf-b572-5706d9add2eb",
   "metadata": {},
   "outputs": [],
   "source": [
    "mean=np.mean(dataset,axis=0)\n",
    "sd=np.std(dataset,axis=0)"
   ]
  },
  {
   "cell_type": "code",
   "execution_count": 41,
   "id": "6f51a477-6f57-42dc-90df-baf49619a676",
   "metadata": {},
   "outputs": [
    {
     "name": "stdout",
     "output_type": "stream",
     "text": [
      "[1.50035376 1.67675571 2.4740047  1.45547692 1.50578509]\n",
      "[2.06369877 1.7842416  5.53262232 2.08527582 1.28175562]\n"
     ]
    }
   ],
   "source": [
    "print(mean)\n",
    "print(sd)"
   ]
  },
  {
   "cell_type": "code",
   "execution_count": 45,
   "id": "96ee49c6-b670-4916-8bb7-a0763d292e61",
   "metadata": {},
   "outputs": [
    {
     "name": "stdout",
     "output_type": "stream",
     "text": [
      "[ 6.88338275e-17  2.63261635e-16 -1.11022302e-17 -9.15933995e-18\n",
      " -7.10542736e-17]\n",
      "[1. 1. 1. 1. 1.]\n"
     ]
    }
   ],
   "source": [
    "standardise=(dataset-mean)/sd\n",
    "new_mean=np.mean(standardise,axis=0)\n",
    "normalized=np.std(standardise,axis=0)\n",
    "print(new_mean)\n",
    "print(normalized)"
   ]
  },
  {
   "cell_type": "code",
   "execution_count": 49,
   "id": "5c6f9b14-5a11-4abe-aa39-006a642ac121",
   "metadata": {},
   "outputs": [
    {
     "name": "stdout",
     "output_type": "stream",
     "text": [
      "[[          1           1           1           1           1           1\n",
      "            1           1           1           1           1           1]\n",
      " [          1           2           4           8          16          32\n",
      "           64         128         256         512        1024        2048]\n",
      " [          1           3           9          27          81         243\n",
      "          729        2187        6561       19683       59049      177147]\n",
      " [          1           4          16          64         256        1024\n",
      "         4096       16384       65536      262144     1048576     4194304]\n",
      " [          1           5          25         125         625        3125\n",
      "        15625       78125      390625     1953125     9765625    48828125]\n",
      " [          1           6          36         216        1296        7776\n",
      "        46656      279936     1679616    10077696    60466176   362797056]\n",
      " [          1           7          49         343        2401       16807\n",
      "       117649      823543     5764801    40353607   282475249  1977326743]\n",
      " [          1           8          64         512        4096       32768\n",
      "       262144     2097152    16777216   134217728  1073741824           0]\n",
      " [          1           9          81         729        6561       59049\n",
      "       531441     4782969    43046721   387420489  -808182895  1316288537]\n",
      " [          1          10         100        1000       10000      100000\n",
      "      1000000    10000000   100000000  1000000000  1410065408  1215752192]\n",
      " [          1          11         121        1331       14641      161051\n",
      "      1771561    19487171   214358881 -1937019605   167620825  1843829075]\n",
      " [          1          12         144        1728       20736      248832\n",
      "      2985984    35831808   429981696   864813056  1787822080   -20971520]]\n"
     ]
    }
   ],
   "source": [
    "#Question 3\n",
    "\n",
    "def vandermonde(N):\n",
    "    vec=np.arange(N)+1\n",
    "    vander=vec.reshape(N,1)\n",
    "    vander=vander**np.arange(N)\n",
    "    return vander\n",
    "vander=vandermonde(12)\n",
    "print(vander)"
   ]
  },
  {
   "cell_type": "code",
   "execution_count": 51,
   "id": "c53550c9-4361-4694-b30d-77f635688551",
   "metadata": {},
   "outputs": [
    {
     "name": "stdout",
     "output_type": "stream",
     "text": [
      "[1.20000000e+01 4.09500000e+03 2.65720000e+05 5.59240500e+06\n",
      " 6.10351560e+07 4.35356467e+08 2.30688120e+09 1.22713351e+09\n",
      " 9.43953692e+08 3.73692871e+09 3.10225064e+08 3.10073456e+09]\n"
     ]
    }
   ],
   "source": [
    "x=np.ones(12)\n",
    "b=np.dot(vander,x)\n",
    "print(b)"
   ]
  },
  {
   "cell_type": "code",
   "execution_count": 53,
   "id": "ebdbf5ca-0a77-4884-a5b5-6a23ad9aa1ab",
   "metadata": {},
   "outputs": [
    {
     "name": "stdout",
     "output_type": "stream",
     "text": [
      "[0.99620819 1.00462723 0.99909973 1.00006104 0.99999666 1.00000048\n",
      " 0.99999995 1.         1.         1.         1.         1.        ]\n"
     ]
    }
   ],
   "source": [
    "inverse=np.linalg.inv(vander)\n",
    "res=np.dot(inverse,b)\n",
    "print(res)"
   ]
  },
  {
   "cell_type": "code",
   "execution_count": 55,
   "id": "d5ea299c-bf0e-4b2c-90bf-b225682a370c",
   "metadata": {},
   "outputs": [],
   "source": [
    "#The expected result was that all the elements of the matrix would be exactly 1. However, not all results come out to be 1."
   ]
  },
  {
   "cell_type": "code",
   "execution_count": 57,
   "id": "9aae8e37-d34d-409b-8b16-e93fb724a72b",
   "metadata": {},
   "outputs": [
    {
     "name": "stdout",
     "output_type": "stream",
     "text": [
      "[0.99998827 1.00002951 0.99997139 1.00001427 0.99999595 1.00000068\n",
      " 0.99999993 1.         1.         1.         1.         1.        ]\n"
     ]
    }
   ],
   "source": [
    "res_new=np.linalg.solve(vander,b)\n",
    "print(res_new)"
   ]
  },
  {
   "cell_type": "code",
   "execution_count": 59,
   "id": "b43429dc-4383-4e10-8bd9-29bc054b9ce2",
   "metadata": {},
   "outputs": [],
   "source": [
    "#The result is closer to the expected value."
   ]
  },
  {
   "cell_type": "code",
   "execution_count": null,
   "id": "f0cc4bda-f4ee-4fce-96fd-951c1653944d",
   "metadata": {},
   "outputs": [],
   "source": []
  }
 ],
 "metadata": {
  "kernelspec": {
   "display_name": "Python 3 (ipykernel)",
   "language": "python",
   "name": "python3"
  },
  "language_info": {
   "codemirror_mode": {
    "name": "ipython",
    "version": 3
   },
   "file_extension": ".py",
   "mimetype": "text/x-python",
   "name": "python",
   "nbconvert_exporter": "python",
   "pygments_lexer": "ipython3",
   "version": "3.12.4"
  }
 },
 "nbformat": 4,
 "nbformat_minor": 5
}
